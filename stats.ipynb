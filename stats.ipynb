{
 "cells": [
  {
   "cell_type": "code",
   "execution_count": 198,
   "id": "b6bf97c5",
   "metadata": {},
   "outputs": [],
   "source": [
    "import pandas as pd\n",
    "import numpy as np\n",
    "import seaborn as sns\n",
    "from scipy import stats\n",
    "import matplotlib.pyplot as plt\n",
    "import re\n",
    "import matplotlib.patches as mpatches\n",
    "import statsmodels.api as sm\n",
    "import statsmodels.formula.api as smf"
   ]
  },
  {
   "cell_type": "code",
   "execution_count": 43,
   "id": "d6b44b9f",
   "metadata": {},
   "outputs": [],
   "source": [
    "sents_raw = pd.read_csv(\"processed_sentences_checked.csv\")\n",
    "orig_sents = np.unique(sents_raw[\"original\"])"
   ]
  },
  {
   "cell_type": "code",
   "execution_count": 302,
   "id": "657c4343",
   "metadata": {},
   "outputs": [
    {
     "name": "stderr",
     "output_type": "stream",
     "text": [
      "/Users/jchenxy/opt/anaconda3/lib/python3.9/site-packages/pandas/core/indexing.py:1817: SettingWithCopyWarning: \n",
      "A value is trying to be set on a copy of a slice from a DataFrame.\n",
      "Try using .loc[row_indexer,col_indexer] = value instead\n",
      "\n",
      "See the caveats in the documentation: https://pandas.pydata.org/pandas-docs/stable/user_guide/indexing.html#returning-a-view-versus-a-copy\n",
      "  self._setitem_single_column(loc, value, pi)\n"
     ]
    }
   ],
   "source": [
    "# delete duplicates and calculate model preference based on perplexity\n",
    "sents = sents_raw.drop_duplicates(subset=['original','transformed'])\n",
    "sents.loc[(sents['original_perplexity']<sents['transformed_perplexity']),'perplexity_preference'] = 2\n",
    "sents.loc[(sents['original_perplexity']>sents['transformed_perplexity']),'perplexity_preference'] = 1"
   ]
  },
  {
   "cell_type": "code",
   "execution_count": 146,
   "id": "97bede55",
   "metadata": {},
   "outputs": [],
   "source": [
    "# add sentence ID \n",
    "for idx in range(len(orig_sents)):\n",
    "    orig_sent = orig_sents[idx]\n",
    "    sents.loc[(sents['original']==orig_sent),'sent_id'] = str(idx)"
   ]
  },
  {
   "cell_type": "code",
   "execution_count": 166,
   "id": "54c898d1",
   "metadata": {},
   "outputs": [],
   "source": [
    "# convert the data frame to long form\n",
    "orig = sents[['original','original_perplexity','original_word_nll','original_token_nll','sent_id']].drop_duplicates()\n",
    "orig['sent_type'] = 'original'\n",
    "orig = orig.rename(columns={'original':'sent','original_perplexity':'perplexity','original_word_nll':'word_nll','original_token_nll':'token_nll'})\n",
    "transformed = sents[['transformed','transformed_perplexity','transformed_word_nll','transformed_token_nll','sent_id']].drop_duplicates()\n",
    "transformed['sent_type'] = 'transformed'\n",
    "transformed = transformed.rename(columns={'transformed':'sent','transformed_perplexity':'perplexity','transformed_word_nll':'word_nll','transformed_token_nll':'token_nll'})\n",
    "df_long = pd.concat([orig,transformed],ignore_index=True)"
   ]
  },
  {
   "cell_type": "code",
   "execution_count": 282,
   "id": "b2cc9896",
   "metadata": {},
   "outputs": [
    {
     "data": {
      "text/plain": [
       "Text(0.5, 0, 'sentence type')"
      ]
     },
     "execution_count": 282,
     "metadata": {},
     "output_type": "execute_result"
    },
    {
     "data": {
      "image/png": "[encoded data removed]",
      "text/plain": [
       "<Figure size 144x360 with 1 Axes>"
      ]
     },
     "metadata": {
      "needs_background": "light"
     },
     "output_type": "display_data"
    }
   ],
   "source": [
    "# plot perplexity scores based on sentence types\n",
    "plt.figure(figsize=(2,5))\n",
    "sns.boxplot(data=full_perplex, x=\"sent_type\", y=\"perplexity\", palette=['darkblue', 'lightblue'])\n",
    "plt.xlabel('sentence type')"
   ]
  },
  {
   "cell_type": "code",
   "execution_count": 314,
   "id": "79a4e296",
   "metadata": {},
   "outputs": [
    {
     "name": "stdout",
     "output_type": "stream",
     "text": [
      "    pref_type  preference     total  missing_total\n",
      "0      prompt    0.557047  0.834452              1\n",
      "1  perplexity    0.845638  1.000000              1\n"
     ]
    }
   ],
   "source": [
    "# calculate proportion preference with the two methods\n",
    "sents_preference = sents.copy()\n",
    "pref_df = pd.DataFrame()\n",
    "llama_pref_orig = np.sum(sents_preference['llama_preference']==2) / len(sents_preference.index)\n",
    "total_llama_pref = np.sum(sents_preference['llama_preference'].isin([1,2])) / len(sents_preference.index)\n",
    "perplex_pref_orig = np.sum(sents_preference['perplexity_preference']==2) / len(sents_preference.index)\n",
    "pref_df['pref_type'] = ['prompt','perplexity']\n",
    "pref_df['preference'] = [llama_pref_orig, perplex_pref_orig]\n",
    "pref_df['total'] = [total_llama_pref,1]\n",
    "pref_df['missing_total'] = [1,1]\n",
    "print(pref_df)"
   ]
  },
  {
   "cell_type": "code",
   "execution_count": 301,
   "id": "d99ab691",
   "metadata": {},
   "outputs": [
    {
     "data": {
      "text/plain": [
       "[]"
      ]
     },
     "execution_count": 301,
     "metadata": {},
     "output_type": "execute_result"
    },
    {
     "data": {
      "image/png": "[encoded data removed]",
      "text/plain": [
       "<Figure size 144x360 with 1 Axes>"
      ]
     },
     "metadata": {
      "needs_background": "light"
     },
     "output_type": "display_data"
    }
   ],
   "source": [
    "# plot sentence preference\n",
    "plt.figure(figsize=(2, 5))\n",
    "bar3 = sns.barplot(x='pref_type',y='missing_total',data=pref_df,color='lightgray')\n",
    "bar2 = sns.barplot(x='pref_type',y='total',data=pref_df,color='lightblue')\n",
    "bar1 = sns.barplot(x='pref_type',y='preference',data=pref_df,color='darkblue')\n",
    "plt.ylim(0,1)\n",
    "top_bar = mpatches.Patch(color='darkblue', label='prefer original sentence')\n",
    "bottom_bar = mpatches.Patch(color='lightblue', label='prefer transformed sentence')\n",
    "back_bar = mpatches.Patch(color='lightgray', label='missing preference info')\n",
    "plt.xlabel('preference type')\n",
    "plt.ylabel('proportion preference')\n",
    "plt.legend(handles=[back_bar,bottom_bar,top_bar],loc='upper center',bbox_to_anchor=(0.5, 1.25))\n",
    "plt.plot()"
   ]
  },
  {
   "cell_type": "code",
   "execution_count": 202,
   "id": "e1ea3a3f",
   "metadata": {},
   "outputs": [],
   "source": [
    "# calculate sentence characteristics\n",
    "for index, row in df_long.iterrows():\n",
    "    words = re.findall(r'\\'[\\u4e00-\\u9fff|a-zA-Z]+\\'',row['word_nll'])\n",
    "    tokens = re.findall(r'\\'[\\u4e00-\\u9fff|a-zA-Z]+\\'',row['token_nll'])\n",
    "    df_long.loc[df_long.index==index,'word_len'] = len(words)\n",
    "    df_long.loc[df_long.index==index,'token_len'] = len(tokens)\n",
    "    chn_word_count = 0\n",
    "    chn_token_count = 0\n",
    "    cs_count = -1\n",
    "    curr_token = ''\n",
    "    for word in words:\n",
    "        if len(re.findall(r'[\\u4e00-\\u9fff]+',word))>0:\n",
    "            chn_word_count += 1\n",
    "    for token in tokens:\n",
    "        prev_token = curr_token\n",
    "        if len(re.findall(r'[\\u4e00-\\u9fff]+',token))>0:\n",
    "            chn_token_count += 1\n",
    "            curr_token = 'chn'\n",
    "        else:\n",
    "            curr_token = 'eng'\n",
    "        if curr_token != prev_token:\n",
    "            cs_count += 1\n",
    "    df_long.loc[df_long.index==index,'chn_word_len'] = chn_word_count\n",
    "    df_long.loc[df_long.index==index,'chn_token_len'] = chn_token_count\n",
    "    df_long.loc[df_long.index==index,'cs_count'] = cs_count\n",
    "df_long['eng_word_len'] = df_long['word_len'] - df_long['chn_word_len']\n",
    "df_long['eng_token_len'] = df_long['token_len'] - df_long['chn_token_len']\n",
    "df_long['prop_chn_word'] = df_long['chn_word_len'] / df_long['word_len']\n",
    "df_long['prop_chn_token'] = df_long['chn_token_len'] / df_long['token_len']"
   ]
  },
  {
   "cell_type": "code",
   "execution_count": 315,
   "id": "eeb68eaf",
   "metadata": {},
   "outputs": [],
   "source": [
    "df_long.to_csv('df_long.csv', index=False)"
   ]
  },
  {
   "cell_type": "code",
   "execution_count": 200,
   "id": "a6a041d1",
   "metadata": {},
   "outputs": [
    {
     "name": "stdout",
     "output_type": "stream",
     "text": [
      "                   Mixed Linear Model Regression Results\n",
      "===========================================================================\n",
      "Model:                   MixedLM      Dependent Variable:      perplexity  \n",
      "No. Observations:        547          Method:                  REML        \n",
      "No. Groups:              100          Scale:                   6017706.2734\n",
      "Min. group size:         2            Log-Likelihood:          -5108.5203  \n",
      "Max. group size:         6            Converged:               Yes         \n",
      "Mean group size:         5.5                                               \n",
      "---------------------------------------------------------------------------\n",
      "                            Coef.    Std.Err.   z   P>|z|  [0.025   0.975] \n",
      "---------------------------------------------------------------------------\n",
      "Intercept                   1134.932  317.492 3.575 0.000  512.659 1757.204\n",
      "sent_type[T.transformed]    1737.268  272.226 6.382 0.000 1203.715 2270.821\n",
      "Group Var                4062406.670  338.035                              \n",
      "===========================================================================\n",
      "\n"
     ]
    }
   ],
   "source": [
    "md = smf.mixedlm(\"perplexity ~ sent_type\", df_long, groups=df_long[\"sent_id\"])\n",
    "mdf = md.fit()\n",
    "print(mdf.summary())"
   ]
  },
  {
   "cell_type": "code",
   "execution_count": 207,
   "id": "12a7d154",
   "metadata": {},
   "outputs": [
    {
     "name": "stdout",
     "output_type": "stream",
     "text": [
      "                         Mixed Linear Model Regression Results\n",
      "========================================================================================\n",
      "Model:                      MixedLM           Dependent Variable:           perplexity  \n",
      "No. Observations:           547               Method:                       REML        \n",
      "No. Groups:                 100               Scale:                        5633958.6632\n",
      "Min. group size:            2                 Log-Likelihood:               -5024.2488  \n",
      "Max. group size:            6                 Converged:                    Yes         \n",
      "Mean group size:            5.5                                                         \n",
      "----------------------------------------------------------------------------------------\n",
      "                                     Coef.    Std.Err.   z    P>|z|   [0.025     0.975] \n",
      "----------------------------------------------------------------------------------------\n",
      "Intercept                           13170.745 5066.257  2.600 0.009   3241.064 23100.425\n",
      "token_len                           -1388.959  636.091 -2.184 0.029  -2635.674  -142.245\n",
      "prop_chn_token                     -11235.211 6458.760 -1.740 0.082 -23894.149  1423.727\n",
      "token_len:prop_chn_token             1252.743  761.042  1.646 0.100   -238.871  2744.357\n",
      "cs_count                             4248.658 2124.267  2.000 0.045     85.171  8412.145\n",
      "token_len:cs_count                   -297.269  204.863 -1.451 0.147   -698.793   104.255\n",
      "prop_chn_token:cs_count             -4146.284 2854.945 -1.452 0.146  -9741.873  1449.304\n",
      "token_len:prop_chn_token:cs_count     333.391  266.926  1.249 0.212   -189.775   856.557\n",
      "Group Var                         1828220.460  200.817                                  \n",
      "========================================================================================\n",
      "\n"
     ]
    }
   ],
   "source": [
    "md = smf.mixedlm(\"perplexity ~ token_len * prop_chn_token * cs_count\", df_long, groups=df_long[\"sent_id\"])\n",
    "mdf = md.fit()\n",
    "print(mdf.summary())"
   ]
  },
  {
   "cell_type": "code",
   "execution_count": 209,
   "id": "83d2c255",
   "metadata": {},
   "outputs": [
    {
     "name": "stdout",
     "output_type": "stream",
     "text": [
      "                        Mixed Linear Model Regression Results\n",
      "======================================================================================\n",
      "Model:                      MixedLM          Dependent Variable:          perplexity  \n",
      "No. Observations:           391              Method:                      REML        \n",
      "No. Groups:                 95               Scale:                       6575522.3073\n",
      "Min. group size:            1                Log-Likelihood:              -3613.2142  \n",
      "Max. group size:            6                Converged:                   Yes         \n",
      "Mean group size:            4.1                                                       \n",
      "--------------------------------------------------------------------------------------\n",
      "                                   Coef.    Std.Err.   z    P>|z|   [0.025     0.975] \n",
      "--------------------------------------------------------------------------------------\n",
      "Intercept                          5932.601 5253.316  1.129 0.259  -4363.709 16228.910\n",
      "word_len                           -521.282  658.846 -0.791 0.429  -1812.596   770.032\n",
      "prop_chn_word                     -1116.270 7637.028 -0.146 0.884 -16084.569 13852.030\n",
      "word_len:prop_chn_word              149.866  922.789  0.162 0.871  -1658.767  1958.499\n",
      "cs_count                           5770.214 2046.031  2.820 0.005   1760.067  9780.360\n",
      "word_len:cs_count                  -388.271  219.887 -1.766 0.077   -819.241    42.699\n",
      "prop_chn_word:cs_count            -7884.461 3115.495 -2.531 0.011 -13990.718 -1778.203\n",
      "word_len:prop_chn_word:cs_count     571.181  322.911  1.769 0.077    -61.713  1204.076\n",
      "Group Var                       2682146.580  281.323                                  \n",
      "======================================================================================\n",
      "\n"
     ]
    }
   ],
   "source": [
    "df_long_word = df_long.dropna()\n",
    "md = smf.mixedlm(\"perplexity ~ word_len * prop_chn_word * cs_count\", df_long_word, groups=df_long_word[\"sent_id\"])\n",
    "mdf = md.fit()\n",
    "print(mdf.summary())"
   ]
  },
  {
   "cell_type": "code",
   "execution_count": 225,
   "id": "0cd5db9c",
   "metadata": {},
   "outputs": [
    {
     "data": {
      "text/html": [
       "<div>\n",
       "<style scoped>\n",
       "    .dataframe tbody tr th:only-of-type {\n",
       "        vertical-align: middle;\n",
       "    }\n",
       "\n",
       "    .dataframe tbody tr th {\n",
       "        vertical-align: top;\n",
       "    }\n",
       "\n",
       "    .dataframe thead th {\n",
       "        text-align: right;\n",
       "    }\n",
       "</style>\n",
       "<table border=\"1\" class=\"dataframe\">\n",
       "  <thead>\n",
       "    <tr style=\"text-align: right;\">\n",
       "      <th></th>\n",
       "      <th>perplexity</th>\n",
       "      <th>word_len</th>\n",
       "      <th>token_len</th>\n",
       "      <th>chn_word_len</th>\n",
       "      <th>chn_token_len</th>\n",
       "      <th>cs_count</th>\n",
       "      <th>eng_word_len</th>\n",
       "      <th>eng_token_len</th>\n",
       "      <th>prop_chn_word</th>\n",
       "      <th>prop_chn_token</th>\n",
       "    </tr>\n",
       "    <tr>\n",
       "      <th>sent_type</th>\n",
       "      <th></th>\n",
       "      <th></th>\n",
       "      <th></th>\n",
       "      <th></th>\n",
       "      <th></th>\n",
       "      <th></th>\n",
       "      <th></th>\n",
       "      <th></th>\n",
       "      <th></th>\n",
       "      <th></th>\n",
       "    </tr>\n",
       "  </thead>\n",
       "  <tbody>\n",
       "    <tr>\n",
       "      <th>original</th>\n",
       "      <td>1134.931524</td>\n",
       "      <td>4.84000</td>\n",
       "      <td>8.910000</td>\n",
       "      <td>3.670000</td>\n",
       "      <td>7.250000</td>\n",
       "      <td>1.900000</td>\n",
       "      <td>1.170000</td>\n",
       "      <td>1.660000</td>\n",
       "      <td>0.740581</td>\n",
       "      <td>0.796966</td>\n",
       "    </tr>\n",
       "    <tr>\n",
       "      <th>transformed</th>\n",
       "      <td>2787.099754</td>\n",
       "      <td>7.14094</td>\n",
       "      <td>10.038031</td>\n",
       "      <td>4.776286</td>\n",
       "      <td>7.995526</td>\n",
       "      <td>3.281879</td>\n",
       "      <td>2.364653</td>\n",
       "      <td>2.042506</td>\n",
       "      <td>0.653748</td>\n",
       "      <td>0.786434</td>\n",
       "    </tr>\n",
       "  </tbody>\n",
       "</table>\n",
       "</div>"
      ],
      "text/plain": [
       "              perplexity  word_len  token_len  chn_word_len  chn_token_len  \\\n",
       "sent_type                                                                    \n",
       "original     1134.931524   4.84000   8.910000      3.670000       7.250000   \n",
       "transformed  2787.099754   7.14094  10.038031      4.776286       7.995526   \n",
       "\n",
       "             cs_count  eng_word_len  eng_token_len  prop_chn_word  \\\n",
       "sent_type                                                           \n",
       "original     1.900000      1.170000       1.660000       0.740581   \n",
       "transformed  3.281879      2.364653       2.042506       0.653748   \n",
       "\n",
       "             prop_chn_token  \n",
       "sent_type                    \n",
       "original           0.796966  \n",
       "transformed        0.786434  "
      ]
     },
     "execution_count": 225,
     "metadata": {},
     "output_type": "execute_result"
    }
   ],
   "source": [
    "df_long.groupby(by=[\"sent_type\"]).mean()"
   ]
  },
  {
   "cell_type": "code",
   "execution_count": 312,
   "id": "fa7d7739",
   "metadata": {},
   "outputs": [
    {
     "data": {
      "text/html": [
       "<div>\n",
       "<style scoped>\n",
       "    .dataframe tbody tr th:only-of-type {\n",
       "        vertical-align: middle;\n",
       "    }\n",
       "\n",
       "    .dataframe tbody tr th {\n",
       "        vertical-align: top;\n",
       "    }\n",
       "\n",
       "    .dataframe thead th {\n",
       "        text-align: right;\n",
       "    }\n",
       "</style>\n",
       "<table border=\"1\" class=\"dataframe\">\n",
       "  <thead>\n",
       "    <tr style=\"text-align: right;\">\n",
       "      <th></th>\n",
       "      <th>perplexity</th>\n",
       "      <th>word_len</th>\n",
       "      <th>token_len</th>\n",
       "      <th>chn_word_len</th>\n",
       "      <th>chn_token_len</th>\n",
       "      <th>cs_count</th>\n",
       "      <th>eng_word_len</th>\n",
       "      <th>eng_token_len</th>\n",
       "      <th>prop_chn_word</th>\n",
       "      <th>prop_chn_token</th>\n",
       "    </tr>\n",
       "    <tr>\n",
       "      <th>sent_type</th>\n",
       "      <th></th>\n",
       "      <th></th>\n",
       "      <th></th>\n",
       "      <th></th>\n",
       "      <th></th>\n",
       "      <th></th>\n",
       "      <th></th>\n",
       "      <th></th>\n",
       "      <th></th>\n",
       "      <th></th>\n",
       "    </tr>\n",
       "  </thead>\n",
       "  <tbody>\n",
       "    <tr>\n",
       "      <th>original</th>\n",
       "      <td>1908.103839</td>\n",
       "      <td>4.398622</td>\n",
       "      <td>3.197521</td>\n",
       "      <td>3.635001</td>\n",
       "      <td>2.992837</td>\n",
       "      <td>1.141504</td>\n",
       "      <td>1.303104</td>\n",
       "      <td>0.843514</td>\n",
       "      <td>0.162652</td>\n",
       "      <td>0.107649</td>\n",
       "    </tr>\n",
       "    <tr>\n",
       "      <th>transformed</th>\n",
       "      <td>3353.963143</td>\n",
       "      <td>4.807067</td>\n",
       "      <td>3.179373</td>\n",
       "      <td>3.542069</td>\n",
       "      <td>2.924303</td>\n",
       "      <td>1.387390</td>\n",
       "      <td>1.735647</td>\n",
       "      <td>0.881031</td>\n",
       "      <td>0.136602</td>\n",
       "      <td>0.087900</td>\n",
       "    </tr>\n",
       "  </tbody>\n",
       "</table>\n",
       "</div>"
      ],
      "text/plain": [
       "              perplexity  word_len  token_len  chn_word_len  chn_token_len  \\\n",
       "sent_type                                                                    \n",
       "original     1908.103839  4.398622   3.197521      3.635001       2.992837   \n",
       "transformed  3353.963143  4.807067   3.179373      3.542069       2.924303   \n",
       "\n",
       "             cs_count  eng_word_len  eng_token_len  prop_chn_word  \\\n",
       "sent_type                                                           \n",
       "original     1.141504      1.303104       0.843514       0.162652   \n",
       "transformed  1.387390      1.735647       0.881031       0.136602   \n",
       "\n",
       "             prop_chn_token  \n",
       "sent_type                    \n",
       "original           0.107649  \n",
       "transformed        0.087900  "
      ]
     },
     "execution_count": 312,
     "metadata": {},
     "output_type": "execute_result"
    }
   ],
   "source": [
    "df_long.groupby(by=[\"sent_type\"]).std()"
   ]
  },
  {
   "cell_type": "code",
   "execution_count": 229,
   "id": "900a5545",
   "metadata": {},
   "outputs": [
    {
     "name": "stdout",
     "output_type": "stream",
     "text": [
      "perplexity\n",
      "Ttest_indResult(statistic=-4.754679000389787, pvalue=2.5473979892834987e-06)\n",
      "word_len\n",
      "Ttest_indResult(statistic=-4.392383294594424, pvalue=1.3474894946683257e-05)\n",
      "token_len\n",
      "Ttest_indResult(statistic=-3.2039711046552517, pvalue=0.001434709273001547)\n",
      "chn_word_len\n",
      "Ttest_indResult(statistic=-2.8098538676106473, pvalue=0.005134468988653864)\n",
      "chn_token_len\n",
      "Ttest_indResult(statistic=-2.294762903080123, pvalue=0.022125903376464008)\n",
      "cs_count\n",
      "Ttest_indResult(statistic=-9.280333110196677, pvalue=3.961252668234697e-19)\n",
      "eng_word_len\n",
      "Ttest_indResult(statistic=-6.484425433518211, pvalue=1.9989246264720793e-10)\n",
      "eng_token_len\n",
      "Ttest_indResult(statistic=-3.954755349608396, pvalue=8.672303376766915e-05)\n",
      "prop_chn_word\n",
      "Ttest_indResult(statistic=nan, pvalue=nan)\n",
      "prop_chn_token\n",
      "Ttest_indResult(statistic=1.0370511515674463, pvalue=0.3001719162430153)\n"
     ]
    }
   ],
   "source": [
    "orig_sent_df = df_long.loc[(df_long['sent_type']=='original')]\n",
    "transformed_sent_df = df_long.loc[(df_long['sent_type']=='transformed')]\n",
    "for col in df_long.columns:\n",
    "    if df_long[col].dtype==float:\n",
    "        orig_var = orig_sent_df[col]\n",
    "        transformed_var = transformed_sent_df[col]\n",
    "        print(col)\n",
    "        print(stats.ttest_ind(orig_var, transformed_var))"
   ]
  },
  {
   "cell_type": "code",
   "execution_count": 230,
   "id": "475701ba",
   "metadata": {},
   "outputs": [
    {
     "name": "stdout",
     "output_type": "stream",
     "text": [
      "perplexity\n",
      "Ttest_indResult(statistic=-4.015569300990029, pvalue=7.117600672139957e-05)\n",
      "word_len\n",
      "Ttest_indResult(statistic=-4.288169385326435, pvalue=2.2749843023724198e-05)\n",
      "token_len\n",
      "Ttest_indResult(statistic=-3.45360362399919, pvalue=0.0006139748824131888)\n",
      "chn_word_len\n",
      "Ttest_indResult(statistic=-0.950516969072653, pvalue=0.3424398110138829)\n",
      "chn_token_len\n",
      "Ttest_indResult(statistic=-2.4139777821896833, pvalue=0.016240444627490223)\n",
      "cs_count\n",
      "Ttest_indResult(statistic=-9.078162050509524, pvalue=5.608998270174304e-18)\n",
      "eng_word_len\n",
      "Ttest_indResult(statistic=-7.489995105394215, pvalue=4.669120593611115e-13)\n",
      "eng_token_len\n",
      "Ttest_indResult(statistic=-4.377550226833764, pvalue=1.5443663206514657e-05)\n",
      "prop_chn_word\n",
      "Ttest_indResult(statistic=4.3932937099115, pvalue=1.441529048809782e-05)\n",
      "prop_chn_token\n",
      "Ttest_indResult(statistic=1.0786578093665211, pvalue=0.2814086877149193)\n"
     ]
    }
   ],
   "source": [
    "orig_sent_df = df_long_word.loc[(df_long['sent_type']=='original')]\n",
    "transformed_sent_df = df_long_word.loc[(df_long['sent_type']=='transformed')]\n",
    "for col in df_long.columns:\n",
    "    if df_long[col].dtype==float:\n",
    "        orig_var = orig_sent_df[col]\n",
    "        transformed_var = transformed_sent_df[col]\n",
    "        print(col)\n",
    "        print(stats.ttest_ind(orig_var, transformed_var))"
   ]
  },
  {
   "cell_type": "code",
   "execution_count": null,
   "id": "85318863",
   "metadata": {},
   "outputs": [],
   "source": []
  }
 ],
 "metadata": {
  "kernelspec": {
   "display_name": "Python 3 (ipykernel)",
   "language": "python",
   "name": "python3"
  },
  "language_info": {
   "codemirror_mode": {
    "name": "ipython",
    "version": 3
   },
   "file_extension": ".py",
   "mimetype": "text/x-python",
   "name": "python",
   "nbconvert_exporter": "python",
   "pygments_lexer": "ipython3",
   "version": "3.9.7"
  }
 },
 "nbformat": 4,
 "nbformat_minor": 5
}
